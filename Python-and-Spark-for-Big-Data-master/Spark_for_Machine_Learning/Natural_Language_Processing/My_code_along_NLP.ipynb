{
 "cells": [
  {
   "cell_type": "markdown",
   "metadata": {},
   "source": [
    "We'll build an email spam filter"
   ]
  },
  {
   "cell_type": "markdown",
   "metadata": {},
   "source": [
    "## Import"
   ]
  },
  {
   "cell_type": "code",
   "execution_count": 1,
   "metadata": {},
   "outputs": [],
   "source": [
    "from pyspark.sql import SparkSession\n",
    "\n",
    "spark = SparkSession.builder.appName(\"nlp\").getOrCreate()"
   ]
  },
  {
   "cell_type": "markdown",
   "metadata": {},
   "source": [
    "## Load data"
   ]
  },
  {
   "cell_type": "code",
   "execution_count": 2,
   "metadata": {},
   "outputs": [
    {
     "data": {
      "text/plain": [
       "['.ipynb_checkpoints',\n",
       " 'My_basic_tools.ipynb',\n",
       " 'My_code_along_NLP.ipynb',\n",
       " 'NLP_Code_Along.ipynb',\n",
       " 'smsspamcollection',\n",
       " 'Tools_for_NLP.ipynb']"
      ]
     },
     "execution_count": 2,
     "metadata": {},
     "output_type": "execute_result"
    }
   ],
   "source": [
    "import os\n",
    "\n",
    "os.listdir()"
   ]
  },
  {
   "cell_type": "code",
   "execution_count": 3,
   "metadata": {},
   "outputs": [],
   "source": [
    "df = spark.read.csv(\"smsspamcollection/SMSSpamCollection\", inferSchema=True, sep=\"\\t\")"
   ]
  },
  {
   "cell_type": "code",
   "execution_count": 4,
   "metadata": {},
   "outputs": [
    {
     "name": "stdout",
     "output_type": "stream",
     "text": [
      "+----+--------------------+\n",
      "| _c0|                 _c1|\n",
      "+----+--------------------+\n",
      "| ham|Go until jurong p...|\n",
      "| ham|Ok lar... Joking ...|\n",
      "|spam|Free entry in 2 a...|\n",
      "| ham|U dun say so earl...|\n",
      "| ham|Nah I don't think...|\n",
      "+----+--------------------+\n",
      "only showing top 5 rows\n",
      "\n"
     ]
    }
   ],
   "source": [
    "df.show(5)"
   ]
  },
  {
   "cell_type": "code",
   "execution_count": 5,
   "metadata": {},
   "outputs": [],
   "source": [
    "dt = df.withColumnRenamed(\"_c0\", \"class\").withColumnRenamed(\"_c1\", \"text\")"
   ]
  },
  {
   "cell_type": "code",
   "execution_count": 6,
   "metadata": {},
   "outputs": [
    {
     "name": "stdout",
     "output_type": "stream",
     "text": [
      "+-----+--------------------+\n",
      "|class|                text|\n",
      "+-----+--------------------+\n",
      "|  ham|Go until jurong p...|\n",
      "|  ham|Ok lar... Joking ...|\n",
      "| spam|Free entry in 2 a...|\n",
      "|  ham|U dun say so earl...|\n",
      "|  ham|Nah I don't think...|\n",
      "+-----+--------------------+\n",
      "only showing top 5 rows\n",
      "\n"
     ]
    }
   ],
   "source": [
    "dt.show(5)"
   ]
  },
  {
   "cell_type": "markdown",
   "metadata": {},
   "source": [
    "## Length can be a good feature"
   ]
  },
  {
   "cell_type": "code",
   "execution_count": 7,
   "metadata": {},
   "outputs": [],
   "source": [
    "from pyspark.sql.functions import length"
   ]
  },
  {
   "cell_type": "code",
   "execution_count": 8,
   "metadata": {},
   "outputs": [],
   "source": [
    "dt = dt.withColumn(\"len\", length(dt[\"text\"]))"
   ]
  },
  {
   "cell_type": "code",
   "execution_count": 9,
   "metadata": {},
   "outputs": [
    {
     "name": "stdout",
     "output_type": "stream",
     "text": [
      "+-----+--------------------+---+\n",
      "|class|                text|len|\n",
      "+-----+--------------------+---+\n",
      "|  ham|Go until jurong p...|111|\n",
      "|  ham|Ok lar... Joking ...| 29|\n",
      "| spam|Free entry in 2 a...|155|\n",
      "|  ham|U dun say so earl...| 49|\n",
      "|  ham|Nah I don't think...| 61|\n",
      "| spam|FreeMsg Hey there...|147|\n",
      "|  ham|Even my brother i...| 77|\n",
      "|  ham|As per your reque...|160|\n",
      "| spam|WINNER!! As a val...|157|\n",
      "| spam|Had your mobile 1...|154|\n",
      "|  ham|I'm gonna be home...|109|\n",
      "| spam|SIX chances to wi...|136|\n",
      "| spam|URGENT! You have ...|155|\n",
      "|  ham|I've been searchi...|196|\n",
      "|  ham|I HAVE A DATE ON ...| 35|\n",
      "| spam|XXXMobileMovieClu...|149|\n",
      "|  ham|Oh k...i'm watchi...| 26|\n",
      "|  ham|Eh u remember how...| 81|\n",
      "|  ham|Fine if thats th...| 56|\n",
      "| spam|England v Macedon...|155|\n",
      "+-----+--------------------+---+\n",
      "only showing top 20 rows\n",
      "\n"
     ]
    }
   ],
   "source": [
    "dt.show()"
   ]
  },
  {
   "cell_type": "code",
   "execution_count": 10,
   "metadata": {},
   "outputs": [
    {
     "name": "stdout",
     "output_type": "stream",
     "text": [
      "+-----+-----------------+\n",
      "|class|         avg(len)|\n",
      "+-----+-----------------+\n",
      "|  ham|71.45431945307645|\n",
      "| spam|138.6706827309237|\n",
      "+-----+-----------------+\n",
      "\n"
     ]
    }
   ],
   "source": [
    "dt.groupBy(\"class\").mean(\"len\").show()"
   ]
  },
  {
   "cell_type": "code",
   "execution_count": 11,
   "metadata": {},
   "outputs": [
    {
     "name": "stdout",
     "output_type": "stream",
     "text": [
      "+-----+-----------------+\n",
      "|class|         avg(len)|\n",
      "+-----+-----------------+\n",
      "|  ham|71.45431945307645|\n",
      "| spam|138.6706827309237|\n",
      "+-----+-----------------+\n",
      "\n"
     ]
    }
   ],
   "source": [
    "dt.groupBy(\"class\").agg({\"len\":\"mean\"}).show()"
   ]
  },
  {
   "cell_type": "markdown",
   "metadata": {},
   "source": [
    "## Tokenizing"
   ]
  },
  {
   "cell_type": "code",
   "execution_count": 12,
   "metadata": {},
   "outputs": [],
   "source": [
    "from pyspark.ml.feature import Tokenizer, StopWordsRemover\n",
    "\n",
    "tk = Tokenizer(inputCol='text', outputCol=\"tokens\")"
   ]
  },
  {
   "cell_type": "code",
   "execution_count": 13,
   "metadata": {},
   "outputs": [],
   "source": [
    "tokenized = tk.transform(dt)"
   ]
  },
  {
   "cell_type": "code",
   "execution_count": 14,
   "metadata": {},
   "outputs": [
    {
     "name": "stdout",
     "output_type": "stream",
     "text": [
      "+-----+--------------------+---+--------------------+\n",
      "|class|                text|len|              tokens|\n",
      "+-----+--------------------+---+--------------------+\n",
      "|  ham|Go until jurong p...|111|[go, until, juron...|\n",
      "|  ham|Ok lar... Joking ...| 29|[ok, lar..., joki...|\n",
      "| spam|Free entry in 2 a...|155|[free, entry, in,...|\n",
      "|  ham|U dun say so earl...| 49|[u, dun, say, so,...|\n",
      "|  ham|Nah I don't think...| 61|[nah, i, don't, t...|\n",
      "+-----+--------------------+---+--------------------+\n",
      "only showing top 5 rows\n",
      "\n"
     ]
    }
   ],
   "source": [
    "tokenized.show(5)"
   ]
  },
  {
   "cell_type": "code",
   "execution_count": 15,
   "metadata": {},
   "outputs": [],
   "source": [
    "rmv = StopWordsRemover(inputCol=\"tokens\", outputCol=\"cleaned\")\n",
    "\n",
    "cleaned = rmv.transform(tokenized)"
   ]
  },
  {
   "cell_type": "code",
   "execution_count": 16,
   "metadata": {},
   "outputs": [
    {
     "name": "stdout",
     "output_type": "stream",
     "text": [
      "+-----+--------------------+---+--------------------+--------------------+\n",
      "|class|                text|len|              tokens|             cleaned|\n",
      "+-----+--------------------+---+--------------------+--------------------+\n",
      "|  ham|Go until jurong p...|111|[go, until, juron...|[go, jurong, poin...|\n",
      "|  ham|Ok lar... Joking ...| 29|[ok, lar..., joki...|[ok, lar..., joki...|\n",
      "| spam|Free entry in 2 a...|155|[free, entry, in,...|[free, entry, 2, ...|\n",
      "|  ham|U dun say so earl...| 49|[u, dun, say, so,...|[u, dun, say, ear...|\n",
      "|  ham|Nah I don't think...| 61|[nah, i, don't, t...|[nah, think, goes...|\n",
      "+-----+--------------------+---+--------------------+--------------------+\n",
      "only showing top 5 rows\n",
      "\n"
     ]
    }
   ],
   "source": [
    "cleaned.show(5)"
   ]
  },
  {
   "cell_type": "markdown",
   "metadata": {},
   "source": [
    "## TF-IDF"
   ]
  },
  {
   "cell_type": "code",
   "execution_count": 17,
   "metadata": {},
   "outputs": [],
   "source": [
    "from pyspark.ml.feature import HashingTF, IDF, CountVectorizer"
   ]
  },
  {
   "cell_type": "code",
   "execution_count": 18,
   "metadata": {},
   "outputs": [],
   "source": [
    "cnt = CountVectorizer(inputCol=\"cleaned\", outputCol=\"cnt_vec\")"
   ]
  },
  {
   "cell_type": "code",
   "execution_count": 19,
   "metadata": {},
   "outputs": [],
   "source": [
    "cnt_dt = cnt.transform(cleaned)"
   ]
  },
  {
   "cell_type": "code",
   "execution_count": 20,
   "metadata": {},
   "outputs": [
    {
     "name": "stdout",
     "output_type": "stream",
     "text": [
      "+-----+--------------------+---+--------------------+--------------------+--------------------+\n",
      "|class|                text|len|              tokens|             cleaned|                  tf|\n",
      "+-----+--------------------+---+--------------------+--------------------+--------------------+\n",
      "|  ham|Go until jurong p...|111|[go, until, juron...|[go, jurong, poin...|(262144,[3168,172...|\n",
      "|  ham|Ok lar... Joking ...| 29|[ok, lar..., joki...|[ok, lar..., joki...|(262144,[122516,1...|\n",
      "| spam|Free entry in 2 a...|155|[free, entry, in,...|[free, entry, 2, ...|(262144,[7958,944...|\n",
      "|  ham|U dun say so earl...| 49|[u, dun, say, so,...|[u, dun, say, ear...|(262144,[28698,35...|\n",
      "|  ham|Nah I don't think...| 61|[nah, i, don't, t...|[nah, think, goes...|(262144,[2710,259...|\n",
      "+-----+--------------------+---+--------------------+--------------------+--------------------+\n",
      "only showing top 5 rows\n",
      "\n"
     ]
    }
   ],
   "source": [
    "hashed_dt.show(5)"
   ]
  },
  {
   "cell_type": "code",
   "execution_count": 22,
   "metadata": {},
   "outputs": [],
   "source": [
    "idf = IDF(minDocFreq=3, inputCol=\"tf\", outputCol=\"tf-idf\")\n",
    "idf_data = idf.fit(hashed_dt).transform(hashed_dt)  #interesting that TF doesn't need fit, but idf need fit"
   ]
  },
  {
   "cell_type": "markdown",
   "metadata": {},
   "source": [
    "## Convert label"
   ]
  },
  {
   "cell_type": "code",
   "execution_count": 23,
   "metadata": {},
   "outputs": [],
   "source": [
    "from pyspark.ml.feature import StringIndexer"
   ]
  },
  {
   "cell_type": "code",
   "execution_count": 24,
   "metadata": {},
   "outputs": [],
   "source": [
    "Ind = StringIndexer(inputCol=\"class\", outputCol=\"label\")"
   ]
  },
  {
   "cell_type": "code",
   "execution_count": 27,
   "metadata": {},
   "outputs": [],
   "source": [
    "final_data = Ind.fit(idf_data).transform(idf_data)"
   ]
  },
  {
   "cell_type": "code",
   "execution_count": 28,
   "metadata": {},
   "outputs": [
    {
     "name": "stdout",
     "output_type": "stream",
     "text": [
      "+-----+--------------------+---+--------------------+--------------------+--------------------+--------------------+-----+\n",
      "|class|                text|len|              tokens|             cleaned|                  tf|              tf-idf|label|\n",
      "+-----+--------------------+---+--------------------+--------------------+--------------------+--------------------+-----+\n",
      "|  ham|Go until jurong p...|111|[go, until, juron...|[go, jurong, poin...|(262144,[3168,172...|(262144,[3168,172...|  0.0|\n",
      "|  ham|Ok lar... Joking ...| 29|[ok, lar..., joki...|[ok, lar..., joki...|(262144,[122516,1...|(262144,[122516,1...|  0.0|\n",
      "| spam|Free entry in 2 a...|155|[free, entry, in,...|[free, entry, 2, ...|(262144,[7958,944...|(262144,[7958,944...|  1.0|\n",
      "|  ham|U dun say so earl...| 49|[u, dun, say, so,...|[u, dun, say, ear...|(262144,[28698,35...|(262144,[28698,35...|  0.0|\n",
      "|  ham|Nah I don't think...| 61|[nah, i, don't, t...|[nah, think, goes...|(262144,[2710,259...|(262144,[2710,259...|  0.0|\n",
      "+-----+--------------------+---+--------------------+--------------------+--------------------+--------------------+-----+\n",
      "only showing top 5 rows\n",
      "\n"
     ]
    }
   ],
   "source": [
    "final_data.show(5)"
   ]
  },
  {
   "cell_type": "code",
   "execution_count": null,
   "metadata": {},
   "outputs": [],
   "source": []
  }
 ],
 "metadata": {
  "kernelspec": {
   "display_name": "Python 3",
   "language": "python",
   "name": "python3"
  },
  "language_info": {
   "codemirror_mode": {
    "name": "ipython",
    "version": 3
   },
   "file_extension": ".py",
   "mimetype": "text/x-python",
   "name": "python",
   "nbconvert_exporter": "python",
   "pygments_lexer": "ipython3",
   "version": "3.7.6"
  }
 },
 "nbformat": 4,
 "nbformat_minor": 4
}
